{
 "cells": [
  {
   "cell_type": "code",
   "execution_count": null,
   "id": "cc7a5f3d-d646-4ad8-918f-8aff1b09fc42",
   "metadata": {},
   "outputs": [],
   "source": [
    "#Answer_1 \n",
    "\n",
    "API stands for application programmable interface.\n",
    "api are mechanisms that enable two software components to communicate with \n",
    "each other using set of definition and protocols.(protocols like TCP/IP ,SMTP,HTTP etc.)\n",
    "\n",
    "for example, the weather bureau's software system contains daily weather data. The weather app on\n",
    "your phone “talks” to this system via APIs and shows you daily weather updates on your phone."
   ]
  },
  {
   "cell_type": "code",
   "execution_count": null,
   "id": "c222b5bb-d6ab-4f8b-a692-bc51037d45f5",
   "metadata": {},
   "outputs": [],
   "source": [
    "#Answer_2\n",
    "\n",
    "Advantages \n",
    "\n",
    "Efficiency: When you have content that is automatically published and made available on different\n",
    "channels simultaneously, APIs allow for more efficient data distribution.\n",
    "\n",
    "Adaptability: One of the greatest benefits of APIs is the ability it has to adapt to changes\n",
    "through data migration and flexibility of services.\n",
    "\n",
    "Disadvantages\n",
    "\n",
    "As a single point of entry, an API is a gateway and can become a hacker's primary target. Once the API is\n",
    "compromised, all other applications and systems become vulnerable.\n",
    ">Creating API is a very time-consuming process\n",
    "?A fixed scale is necessary\n",
    ">Imprecise boundary delineation\n",
    "To create API, programming knowledge is necessary\n",
    "?Maintenance cost is very high\n",
    ">It can crash when testing API"
   ]
  },
  {
   "cell_type": "code",
   "execution_count": null,
   "id": "b0236fe5-9f63-4bf3-96ce-052dd509c40a",
   "metadata": {},
   "outputs": [],
   "source": [
    "#Answer_3\n",
    "\n",
    "Web API as the name suggests, is an API over the web which can be accessed using HTTP protocol.\n",
    "It is a concept and not a technology.\n",
    "Web API is an extensible framework for building HTTP based services that can be accessed in different \n",
    "applications on different platforms such as web, windows, mobile etc.\n",
    "the exception is that it only supports HTTP protocol.\n",
    "\n",
    "Web service is a collection of open source protocols and standards                       API is a software interface that allows two applications\n",
    "used for exchanging data between systems or applications                                 to interact with each other without any user involvement.\n",
    "Web service is used for REST, SOAP, and XML-RPC for communication, while                 API is used for any style of communication.\n",
    "Web service supports only HTTP protocol                                                  API supports HTTP/HTTPS protocol.\n",
    "Web service supports XML                                                                 API supports XML and JSON.\n",
    "All Web services are APIs                                                                APIs are not web services.\n",
    "  "
   ]
  },
  {
   "cell_type": "code",
   "execution_count": null,
   "id": "0d94ad07-80f3-4841-8f3e-3e8200f8bed0",
   "metadata": {},
   "outputs": [],
   "source": [
    "#Answer_4\n",
    "\n",
    ">Rest architecture\n",
    "\n",
    "REST is a software architectural style that defines the set of rules to be used for creating web services.\n",
    "Web services which follow the REST architectural style are known as RESTful web services. It allows requesting\n",
    "systems to access and manipulate web resources by using a uniform and predefined set of rules.\n",
    "\n",
    "A Restful system consists of a:\n",
    "\n",
    "client who requests for the resources.\n",
    "server who has the resources.\n",
    "\n",
    "It is important to create REST API according to industry standards which results in\n",
    "ease of development and increase client adoption. \n",
    "\n",
    "\n",
    ">soap architecture\n",
    "\n",
    "SOAP is a protocol for the exchange of information in a distributed environment. SOAP messages are \n",
    "encoded as XML documents and can be exchanged using various underlying protocols.\n",
    "\n",
    "Formerly an acronym for Simple Object Access Protocol, SOAP is developed by the World Wide Web Consortium (W3C),\n",
    "and is defined in the following documents issued by W3C. \n",
    "\n",
    "#shortcoming of soap \n",
    "\n",
    "\n",
    "1.Highly complex\n",
    "\n",
    "In comparison to Rest, SOAP is significantly more complex. It's also less flexible. This might present a\n",
    "challenge for developers that are not highly skilled. The extensive processing required may also slow down performance.\n",
    "\n",
    "2.No variety of data formats\n",
    "SOAP is also extremely limited in its support of data formats. The formats supported by Rest include \n",
    "HTML, JSON, YAML, XML and others. Meanwhile, SOAP only supports XML.\n",
    "\n",
    "3.API calls are not cached\n",
    "The process where a request is sent after an API is set up with the correct endpoints is referred to\n",
    "as an API call. The process results in the information being transferred, processed and feedback being\n",
    "provided. It's not possible for SOAP API calls to be cached.\n",
    "\n",
    "4.Uses more bandwidth\n",
    "\n",
    "SOAP is generally slower in comparison to Rest and it also uses more bandwidth given its very\n",
    "complex nature. It’s another limiting factor in the efficacy of this technology for certain project."
   ]
  },
  {
   "cell_type": "code",
   "execution_count": null,
   "id": "5facc9bb-cb6c-41aa-b1d7-c24aa0992059",
   "metadata": {},
   "outputs": [],
   "source": [
    "#Answer_5\n",
    "\n",
    "Difference Between SOAP and REST API\n",
    "\n",
    "SOAP stands for Simple Object Access Protocol                                      REST stands for Representational State Transfer.\n",
    "SOAP is a protocol                                                                 REST is an architectural pattern.\n",
    "SOAP uses service interfaces to expose its functionality to client applications    REST uses Uniform Service locators to access to the components on the hardware device.\n",
    "SOAP needs more bandwidth for its usage                                            REST doesn’t need much bandwidth.\n",
    "Comparing SOAP vs REST API, SOAP only works with XML formats                       REST work with plain text, XML, HTML and JSON.\n",
    "SOAP cannot make use of REST"
   ]
  }
 ],
 "metadata": {
  "kernelspec": {
   "display_name": "Python 3 (ipykernel)",
   "language": "python",
   "name": "python3"
  },
  "language_info": {
   "codemirror_mode": {
    "name": "ipython",
    "version": 3
   },
   "file_extension": ".py",
   "mimetype": "text/x-python",
   "name": "python",
   "nbconvert_exporter": "python",
   "pygments_lexer": "ipython3",
   "version": "3.10.8"
  }
 },
 "nbformat": 4,
 "nbformat_minor": 5
}
